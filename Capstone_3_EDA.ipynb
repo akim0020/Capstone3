{
 "cells": [
  {
   "cell_type": "code",
   "execution_count": 57,
   "id": "b56da4f0-d71d-42c7-ab0a-bbc43c18cd22",
   "metadata": {},
   "outputs": [
    {
     "data": {
      "text/html": [
       "<div>\n",
       "<style scoped>\n",
       "    .dataframe tbody tr th:only-of-type {\n",
       "        vertical-align: middle;\n",
       "    }\n",
       "\n",
       "    .dataframe tbody tr th {\n",
       "        vertical-align: top;\n",
       "    }\n",
       "\n",
       "    .dataframe thead th {\n",
       "        text-align: right;\n",
       "    }\n",
       "</style>\n",
       "<table border=\"1\" class=\"dataframe\">\n",
       "  <thead>\n",
       "    <tr style=\"text-align: right;\">\n",
       "      <th></th>\n",
       "      <th>Age</th>\n",
       "      <th>Gender</th>\n",
       "      <th>Smoking</th>\n",
       "      <th>Hx Smoking</th>\n",
       "      <th>Hx Radiothreapy</th>\n",
       "      <th>Thyroid Function</th>\n",
       "      <th>Physical Examination</th>\n",
       "      <th>Adenopathy</th>\n",
       "      <th>Pathology</th>\n",
       "      <th>Focality</th>\n",
       "      <th>Risk</th>\n",
       "      <th>T</th>\n",
       "      <th>N</th>\n",
       "      <th>M</th>\n",
       "      <th>Stage</th>\n",
       "      <th>Response</th>\n",
       "      <th>Recurred</th>\n",
       "    </tr>\n",
       "  </thead>\n",
       "  <tbody>\n",
       "    <tr>\n",
       "      <th>0</th>\n",
       "      <td>27</td>\n",
       "      <td>F</td>\n",
       "      <td>No</td>\n",
       "      <td>No</td>\n",
       "      <td>No</td>\n",
       "      <td>Euthyroid</td>\n",
       "      <td>Single nodular goiter-left</td>\n",
       "      <td>No</td>\n",
       "      <td>Micropapillary</td>\n",
       "      <td>Uni-Focal</td>\n",
       "      <td>Low</td>\n",
       "      <td>T1a</td>\n",
       "      <td>N0</td>\n",
       "      <td>M0</td>\n",
       "      <td>I</td>\n",
       "      <td>Indeterminate</td>\n",
       "      <td>No</td>\n",
       "    </tr>\n",
       "    <tr>\n",
       "      <th>1</th>\n",
       "      <td>34</td>\n",
       "      <td>F</td>\n",
       "      <td>No</td>\n",
       "      <td>Yes</td>\n",
       "      <td>No</td>\n",
       "      <td>Euthyroid</td>\n",
       "      <td>Multinodular goiter</td>\n",
       "      <td>No</td>\n",
       "      <td>Micropapillary</td>\n",
       "      <td>Uni-Focal</td>\n",
       "      <td>Low</td>\n",
       "      <td>T1a</td>\n",
       "      <td>N0</td>\n",
       "      <td>M0</td>\n",
       "      <td>I</td>\n",
       "      <td>Excellent</td>\n",
       "      <td>No</td>\n",
       "    </tr>\n",
       "    <tr>\n",
       "      <th>2</th>\n",
       "      <td>30</td>\n",
       "      <td>F</td>\n",
       "      <td>No</td>\n",
       "      <td>No</td>\n",
       "      <td>No</td>\n",
       "      <td>Euthyroid</td>\n",
       "      <td>Single nodular goiter-right</td>\n",
       "      <td>No</td>\n",
       "      <td>Micropapillary</td>\n",
       "      <td>Uni-Focal</td>\n",
       "      <td>Low</td>\n",
       "      <td>T1a</td>\n",
       "      <td>N0</td>\n",
       "      <td>M0</td>\n",
       "      <td>I</td>\n",
       "      <td>Excellent</td>\n",
       "      <td>No</td>\n",
       "    </tr>\n",
       "    <tr>\n",
       "      <th>3</th>\n",
       "      <td>62</td>\n",
       "      <td>F</td>\n",
       "      <td>No</td>\n",
       "      <td>No</td>\n",
       "      <td>No</td>\n",
       "      <td>Euthyroid</td>\n",
       "      <td>Single nodular goiter-right</td>\n",
       "      <td>No</td>\n",
       "      <td>Micropapillary</td>\n",
       "      <td>Uni-Focal</td>\n",
       "      <td>Low</td>\n",
       "      <td>T1a</td>\n",
       "      <td>N0</td>\n",
       "      <td>M0</td>\n",
       "      <td>I</td>\n",
       "      <td>Excellent</td>\n",
       "      <td>No</td>\n",
       "    </tr>\n",
       "    <tr>\n",
       "      <th>4</th>\n",
       "      <td>62</td>\n",
       "      <td>F</td>\n",
       "      <td>No</td>\n",
       "      <td>No</td>\n",
       "      <td>No</td>\n",
       "      <td>Euthyroid</td>\n",
       "      <td>Multinodular goiter</td>\n",
       "      <td>No</td>\n",
       "      <td>Micropapillary</td>\n",
       "      <td>Multi-Focal</td>\n",
       "      <td>Low</td>\n",
       "      <td>T1a</td>\n",
       "      <td>N0</td>\n",
       "      <td>M0</td>\n",
       "      <td>I</td>\n",
       "      <td>Excellent</td>\n",
       "      <td>No</td>\n",
       "    </tr>\n",
       "  </tbody>\n",
       "</table>\n",
       "</div>"
      ],
      "text/plain": [
       "   Age Gender Smoking Hx Smoking Hx Radiothreapy Thyroid Function  \\\n",
       "0   27      F      No         No              No        Euthyroid   \n",
       "1   34      F      No        Yes              No        Euthyroid   \n",
       "2   30      F      No         No              No        Euthyroid   \n",
       "3   62      F      No         No              No        Euthyroid   \n",
       "4   62      F      No         No              No        Euthyroid   \n",
       "\n",
       "          Physical Examination Adenopathy       Pathology     Focality Risk  \\\n",
       "0   Single nodular goiter-left         No  Micropapillary    Uni-Focal  Low   \n",
       "1          Multinodular goiter         No  Micropapillary    Uni-Focal  Low   \n",
       "2  Single nodular goiter-right         No  Micropapillary    Uni-Focal  Low   \n",
       "3  Single nodular goiter-right         No  Micropapillary    Uni-Focal  Low   \n",
       "4          Multinodular goiter         No  Micropapillary  Multi-Focal  Low   \n",
       "\n",
       "     T   N   M Stage       Response Recurred  \n",
       "0  T1a  N0  M0     I  Indeterminate       No  \n",
       "1  T1a  N0  M0     I      Excellent       No  \n",
       "2  T1a  N0  M0     I      Excellent       No  \n",
       "3  T1a  N0  M0     I      Excellent       No  \n",
       "4  T1a  N0  M0     I      Excellent       No  "
      ]
     },
     "execution_count": 57,
     "metadata": {},
     "output_type": "execute_result"
    }
   ],
   "source": [
    "import pandas as pd\n",
    "import matplotlib.pyplot as plt\n",
    "import seaborn as sns\n",
    "import os\n",
    "from library.sb_utils import save_file\n",
    "\n",
    "df = pd.read_csv('Thyroid_Diff.csv')\n",
    "df.head()"
   ]
  },
  {
   "cell_type": "code",
   "execution_count": 78,
   "id": "b9eb6780-e994-4896-8d17-233715bc31da",
   "metadata": {},
   "outputs": [
    {
     "data": {
      "text/plain": [
       "Recurred\n",
       "No     275\n",
       "Yes    108\n",
       "Name: count, dtype: int64"
      ]
     },
     "execution_count": 78,
     "metadata": {},
     "output_type": "execute_result"
    }
   ],
   "source": [
    "df.value_counts(\"Recurred\")"
   ]
  },
  {
   "cell_type": "code",
   "execution_count": 59,
   "id": "b5f7a85f-e5f0-4a91-80d4-9aefefdc1a6a",
   "metadata": {},
   "outputs": [],
   "source": [
    "# features = Age, Gender\n",
    "# numerical values = Smoking, Hx Smoking, Hx Radiothreapy, Thyroid Function, Physical Examination, Andenopathy, Pathology, Focality, Risk, \n",
    "# T, N, M, Stage, Response \n",
    "# y = Recurred"
   ]
  },
  {
   "cell_type": "code",
   "execution_count": 60,
   "id": "e0ac425c-94ad-4708-aa9b-cf1f7e5ef086",
   "metadata": {},
   "outputs": [
    {
     "name": "stderr",
     "output_type": "stream",
     "text": [
      "/var/folders/h5/j7hg27js2jdf7cp5h0801rj00000gn/T/ipykernel_62702/1250076961.py:3: FutureWarning: Downcasting behavior in `replace` is deprecated and will be removed in a future version. To retain the old behavior, explicitly call `result.infer_objects(copy=False)`. To opt-in to the future behavior, set `pd.set_option('future.no_silent_downcasting', True)`\n",
      "  df[\"Smoking\"] = df[\"Smoking\"].replace(\"No\",0)\n"
     ]
    }
   ],
   "source": [
    "#change yes, no to 1, 0 for columns Smoking, Hx Smoking, Hx Radiotherapy, Adenopathy\n",
    "df[\"Smoking\"] = df[\"Smoking\"].replace(\"Yes\",1)\n",
    "df[\"Smoking\"] = df[\"Smoking\"].replace(\"No\",0)"
   ]
  },
  {
   "cell_type": "code",
   "execution_count": 61,
   "id": "0e022910-8d87-4c18-af0b-5c5b3198f41f",
   "metadata": {},
   "outputs": [
    {
     "name": "stderr",
     "output_type": "stream",
     "text": [
      "/var/folders/h5/j7hg27js2jdf7cp5h0801rj00000gn/T/ipykernel_62702/2005348838.py:2: FutureWarning: Downcasting behavior in `replace` is deprecated and will be removed in a future version. To retain the old behavior, explicitly call `result.infer_objects(copy=False)`. To opt-in to the future behavior, set `pd.set_option('future.no_silent_downcasting', True)`\n",
      "  df[\"Hx Smoking\"] = df[\"Hx Smoking\"].replace(\"No\",0)\n"
     ]
    }
   ],
   "source": [
    "df[\"Hx Smoking\"] = df[\"Hx Smoking\"].replace(\"Yes\",1)\n",
    "df[\"Hx Smoking\"] = df[\"Hx Smoking\"].replace(\"No\",0)"
   ]
  },
  {
   "cell_type": "code",
   "execution_count": 62,
   "id": "215371e4-68c6-44e8-ae2a-d27af22a4917",
   "metadata": {},
   "outputs": [
    {
     "name": "stderr",
     "output_type": "stream",
     "text": [
      "/var/folders/h5/j7hg27js2jdf7cp5h0801rj00000gn/T/ipykernel_62702/1141696010.py:2: FutureWarning: Downcasting behavior in `replace` is deprecated and will be removed in a future version. To retain the old behavior, explicitly call `result.infer_objects(copy=False)`. To opt-in to the future behavior, set `pd.set_option('future.no_silent_downcasting', True)`\n",
      "  df[\"Hx Radiothreapy\"] = df[\"Hx Radiothreapy\"].replace(\"No\",0)\n"
     ]
    }
   ],
   "source": [
    "df[\"Hx Radiothreapy\"] = df[\"Hx Radiothreapy\"].replace(\"Yes\",1)\n",
    "df[\"Hx Radiothreapy\"] = df[\"Hx Radiothreapy\"].replace(\"No\",0)"
   ]
  },
  {
   "cell_type": "code",
   "execution_count": 63,
   "id": "443e8532-8f0b-46f4-b802-e3289021028f",
   "metadata": {},
   "outputs": [
    {
     "name": "stderr",
     "output_type": "stream",
     "text": [
      "/var/folders/h5/j7hg27js2jdf7cp5h0801rj00000gn/T/ipykernel_62702/1825905557.py:6: FutureWarning: Downcasting behavior in `replace` is deprecated and will be removed in a future version. To retain the old behavior, explicitly call `result.infer_objects(copy=False)`. To opt-in to the future behavior, set `pd.set_option('future.no_silent_downcasting', True)`\n",
      "  df[\"Adenopathy\"] = df[\"Adenopathy\"].replace(\"Posterior\",5)\n"
     ]
    }
   ],
   "source": [
    "df[\"Adenopathy\"] = df[\"Adenopathy\"].replace(\"No\",0)\n",
    "df[\"Adenopathy\"] = df[\"Adenopathy\"].replace(\"Right\",1)\n",
    "df[\"Adenopathy\"] = df[\"Adenopathy\"].replace(\"Bilateral\",2)\n",
    "df[\"Adenopathy\"] = df[\"Adenopathy\"].replace(\"Left\",3)\n",
    "df[\"Adenopathy\"] = df[\"Adenopathy\"].replace(\"Extensive\",4)\n",
    "df[\"Adenopathy\"] = df[\"Adenopathy\"].replace(\"Posterior\",5)"
   ]
  },
  {
   "cell_type": "code",
   "execution_count": 64,
   "id": "c6f12995-2b79-40f5-913f-cec6424976bd",
   "metadata": {},
   "outputs": [
    {
     "name": "stderr",
     "output_type": "stream",
     "text": [
      "/var/folders/h5/j7hg27js2jdf7cp5h0801rj00000gn/T/ipykernel_62702/4083531841.py:7: FutureWarning: Downcasting behavior in `replace` is deprecated and will be removed in a future version. To retain the old behavior, explicitly call `result.infer_objects(copy=False)`. To opt-in to the future behavior, set `pd.set_option('future.no_silent_downcasting', True)`\n",
      "  df[\"Thyroid Function\"] = df[\"Thyroid Function\"].replace(\"Subclinical Hyperthyroidism\",4)\n"
     ]
    }
   ],
   "source": [
    "#change Thyroid Function values Euthyroid = 0, Clinical Hyperthyroidism = 1, Subclinical Hypothyroidism = 2, \n",
    "#Clinical Hypothyroidism = 3, Subclinical Hyperthyroidism = 4\n",
    "df[\"Thyroid Function\"] = df[\"Thyroid Function\"].replace(\"Euthyroid\",0)\n",
    "df[\"Thyroid Function\"] = df[\"Thyroid Function\"].replace(\"Clinical Hyperthyroidism\",1)\n",
    "df[\"Thyroid Function\"] = df[\"Thyroid Function\"].replace(\"Subclinical Hypothyroidism\",2)\n",
    "df[\"Thyroid Function\"] = df[\"Thyroid Function\"].replace(\"Clinical Hypothyroidism\",3)\n",
    "df[\"Thyroid Function\"] = df[\"Thyroid Function\"].replace(\"Subclinical Hyperthyroidism\",4)"
   ]
  },
  {
   "cell_type": "code",
   "execution_count": 65,
   "id": "c1f75158-610c-4320-8598-65de736819e6",
   "metadata": {},
   "outputs": [
    {
     "name": "stderr",
     "output_type": "stream",
     "text": [
      "/var/folders/h5/j7hg27js2jdf7cp5h0801rj00000gn/T/ipykernel_62702/1304596066.py:5: FutureWarning: Downcasting behavior in `replace` is deprecated and will be removed in a future version. To retain the old behavior, explicitly call `result.infer_objects(copy=False)`. To opt-in to the future behavior, set `pd.set_option('future.no_silent_downcasting', True)`\n",
      "  df[\"Pathology\"] = df[\"Pathology\"].replace(\"Hurthel cell\",3)\n"
     ]
    }
   ],
   "source": [
    "#change Pathology values Papillary = 0, Micropapillary = 1, Follicular = 2, Hurthel cell = 3 \n",
    "df[\"Pathology\"] = df[\"Pathology\"].replace(\"Papillary\",0)\n",
    "df[\"Pathology\"] = df[\"Pathology\"].replace(\"Micropapillary\",1)\n",
    "df[\"Pathology\"] = df[\"Pathology\"].replace(\"Follicular\",2)\n",
    "df[\"Pathology\"] = df[\"Pathology\"].replace(\"Hurthel cell\",3)"
   ]
  },
  {
   "cell_type": "code",
   "execution_count": 66,
   "id": "a127f053-57cc-43d4-b969-95bdd5679396",
   "metadata": {},
   "outputs": [
    {
     "name": "stderr",
     "output_type": "stream",
     "text": [
      "/var/folders/h5/j7hg27js2jdf7cp5h0801rj00000gn/T/ipykernel_62702/3752246023.py:3: FutureWarning: Downcasting behavior in `replace` is deprecated and will be removed in a future version. To retain the old behavior, explicitly call `result.infer_objects(copy=False)`. To opt-in to the future behavior, set `pd.set_option('future.no_silent_downcasting', True)`\n",
      "  df[\"Focality\"] = df[\"Focality\"].replace(\"Multi-Focal\",1)\n"
     ]
    }
   ],
   "source": [
    "#change Focality values Uni-Focal = 0, Multi-Focal = 1\n",
    "df[\"Focality\"] = df[\"Focality\"].replace(\"Uni-Focal\",0)\n",
    "df[\"Focality\"] = df[\"Focality\"].replace(\"Multi-Focal\",1)"
   ]
  },
  {
   "cell_type": "code",
   "execution_count": 67,
   "id": "4f382a93-e01a-4d12-82aa-fbfa539ca0dd",
   "metadata": {},
   "outputs": [
    {
     "name": "stderr",
     "output_type": "stream",
     "text": [
      "/var/folders/h5/j7hg27js2jdf7cp5h0801rj00000gn/T/ipykernel_62702/294088155.py:4: FutureWarning: Downcasting behavior in `replace` is deprecated and will be removed in a future version. To retain the old behavior, explicitly call `result.infer_objects(copy=False)`. To opt-in to the future behavior, set `pd.set_option('future.no_silent_downcasting', True)`\n",
      "  df[\"Risk\"] = df[\"Risk\"].replace(\"High\",2)\n"
     ]
    }
   ],
   "source": [
    "#change Risk values Low = 0, Intermediate = 1, High = 2\n",
    "df[\"Risk\"] = df[\"Risk\"].replace(\"Low\",0)\n",
    "df[\"Risk\"] = df[\"Risk\"].replace(\"Intermediate\",1)\n",
    "df[\"Risk\"] = df[\"Risk\"].replace(\"High\",2)"
   ]
  },
  {
   "cell_type": "code",
   "execution_count": 68,
   "id": "cad057d5-ba39-42f3-b391-ce80f7cab6e5",
   "metadata": {},
   "outputs": [
    {
     "name": "stderr",
     "output_type": "stream",
     "text": [
      "/var/folders/h5/j7hg27js2jdf7cp5h0801rj00000gn/T/ipykernel_62702/2674569746.py:8: FutureWarning: Downcasting behavior in `replace` is deprecated and will be removed in a future version. To retain the old behavior, explicitly call `result.infer_objects(copy=False)`. To opt-in to the future behavior, set `pd.set_option('future.no_silent_downcasting', True)`\n",
      "  df[\"T\"] = df[\"T\"].replace(\"T4b\",6)\n"
     ]
    }
   ],
   "source": [
    "#change T values T2 = 0, T3a = 1, T1a = 2, T1b = 3, T4a = 4, T3b = 5, T4b = 6\n",
    "df[\"T\"] = df[\"T\"].replace(\"T2\",0)\n",
    "df[\"T\"] = df[\"T\"].replace(\"T3a\",1)\n",
    "df[\"T\"] = df[\"T\"].replace(\"T1a\",2)\n",
    "df[\"T\"] = df[\"T\"].replace(\"T1b\",3)\n",
    "df[\"T\"] = df[\"T\"].replace(\"T4a\",4)\n",
    "df[\"T\"] = df[\"T\"].replace(\"T3b\",5)\n",
    "df[\"T\"] = df[\"T\"].replace(\"T4b\",6)"
   ]
  },
  {
   "cell_type": "code",
   "execution_count": 69,
   "id": "931083b1-61c7-4898-b44b-3dfe47f253bb",
   "metadata": {},
   "outputs": [
    {
     "name": "stderr",
     "output_type": "stream",
     "text": [
      "/var/folders/h5/j7hg27js2jdf7cp5h0801rj00000gn/T/ipykernel_62702/3039655492.py:4: FutureWarning: Downcasting behavior in `replace` is deprecated and will be removed in a future version. To retain the old behavior, explicitly call `result.infer_objects(copy=False)`. To opt-in to the future behavior, set `pd.set_option('future.no_silent_downcasting', True)`\n",
      "  df[\"N\"] = df[\"N\"].replace(\"N1a\",2)\n"
     ]
    }
   ],
   "source": [
    "#change N values N0 = 0, N1b = 1, N1a = 2\n",
    "df[\"N\"] = df[\"N\"].replace(\"N0\",0)\n",
    "df[\"N\"] = df[\"N\"].replace(\"N1b\",1)\n",
    "df[\"N\"] = df[\"N\"].replace(\"N1a\",2)"
   ]
  },
  {
   "cell_type": "code",
   "execution_count": 70,
   "id": "0d160d1a-6401-487f-a0dd-bb3e8f34331a",
   "metadata": {},
   "outputs": [
    {
     "name": "stderr",
     "output_type": "stream",
     "text": [
      "/var/folders/h5/j7hg27js2jdf7cp5h0801rj00000gn/T/ipykernel_62702/4137271131.py:3: FutureWarning: Downcasting behavior in `replace` is deprecated and will be removed in a future version. To retain the old behavior, explicitly call `result.infer_objects(copy=False)`. To opt-in to the future behavior, set `pd.set_option('future.no_silent_downcasting', True)`\n",
      "  df[\"M\"] = df[\"M\"].replace(\"M1\",1)\n"
     ]
    }
   ],
   "source": [
    "#change M values M0 = 0, M1 = 1 \n",
    "df[\"M\"] = df[\"M\"].replace(\"M0\",0)\n",
    "df[\"M\"] = df[\"M\"].replace(\"M1\",1)"
   ]
  },
  {
   "cell_type": "code",
   "execution_count": 71,
   "id": "69c4bfe6-2b2b-4391-8ca3-d54a8272e364",
   "metadata": {},
   "outputs": [
    {
     "name": "stderr",
     "output_type": "stream",
     "text": [
      "/var/folders/h5/j7hg27js2jdf7cp5h0801rj00000gn/T/ipykernel_62702/2422540909.py:6: FutureWarning: Downcasting behavior in `replace` is deprecated and will be removed in a future version. To retain the old behavior, explicitly call `result.infer_objects(copy=False)`. To opt-in to the future behavior, set `pd.set_option('future.no_silent_downcasting', True)`\n",
      "  df[\"Stage\"] = df[\"Stage\"].replace(\"IVA\",4)\n"
     ]
    }
   ],
   "source": [
    "#change Stage values I = 0, II = 1, IVB = 2, III = 3, IVA = 4\n",
    "df[\"Stage\"] = df[\"Stage\"].replace(\"I\",0)\n",
    "df[\"Stage\"] = df[\"Stage\"].replace(\"II\",1)\n",
    "df[\"Stage\"] = df[\"Stage\"].replace(\"IVB\",2)\n",
    "df[\"Stage\"] = df[\"Stage\"].replace(\"III\",3)\n",
    "df[\"Stage\"] = df[\"Stage\"].replace(\"IVA\",4)"
   ]
  },
  {
   "cell_type": "code",
   "execution_count": 72,
   "id": "b23072f5-4413-4367-8e99-9383c5012b41",
   "metadata": {},
   "outputs": [
    {
     "name": "stderr",
     "output_type": "stream",
     "text": [
      "/var/folders/h5/j7hg27js2jdf7cp5h0801rj00000gn/T/ipykernel_62702/4152601712.py:5: FutureWarning: Downcasting behavior in `replace` is deprecated and will be removed in a future version. To retain the old behavior, explicitly call `result.infer_objects(copy=False)`. To opt-in to the future behavior, set `pd.set_option('future.no_silent_downcasting', True)`\n",
      "  df[\"Response\"] = df[\"Response\"].replace(\"Biochemical Incomplete\",3)\n"
     ]
    }
   ],
   "source": [
    "#change Response values Excellent = 0, Structural Incomplete = 1, Indeterminate = 2, Biochemical Incomplete = 3\n",
    "df[\"Response\"] = df[\"Response\"].replace(\"Excellent\",0)\n",
    "df[\"Response\"] = df[\"Response\"].replace(\"Structural Incomplete\",1)\n",
    "df[\"Response\"] = df[\"Response\"].replace(\"Indeterminate\",2)\n",
    "df[\"Response\"] = df[\"Response\"].replace(\"Biochemical Incomplete\",3)"
   ]
  },
  {
   "cell_type": "code",
   "execution_count": 73,
   "id": "ba5f86fc-9562-459e-ab2a-31bc1cda06f7",
   "metadata": {},
   "outputs": [
    {
     "name": "stderr",
     "output_type": "stream",
     "text": [
      "/var/folders/h5/j7hg27js2jdf7cp5h0801rj00000gn/T/ipykernel_62702/4086416825.py:7: FutureWarning: Downcasting behavior in `replace` is deprecated and will be removed in a future version. To retain the old behavior, explicitly call `result.infer_objects(copy=False)`. To opt-in to the future behavior, set `pd.set_option('future.no_silent_downcasting', True)`\n",
      "  df[\"Physical Examination\"] = df[\"Physical Examination\"].replace(\"Normal\",4)\n"
     ]
    }
   ],
   "source": [
    "#change Physical Examination values Multinodular goiter = 0, Single nodular goiter-right = 1, Single nodular goiter-left = 2, \n",
    "#Diffuse goiter = 3, Normal = 4\n",
    "df[\"Physical Examination\"] = df[\"Physical Examination\"].replace(\"Multinodular goiter\",0)\n",
    "df[\"Physical Examination\"] = df[\"Physical Examination\"].replace(\"Single nodular goiter-right\",1)\n",
    "df[\"Physical Examination\"] = df[\"Physical Examination\"].replace(\"Single nodular goiter-left\",2)\n",
    "df[\"Physical Examination\"] = df[\"Physical Examination\"].replace(\"Diffuse goiter\",3)\n",
    "df[\"Physical Examination\"] = df[\"Physical Examination\"].replace(\"Normal\",4)"
   ]
  },
  {
   "cell_type": "code",
   "execution_count": 74,
   "id": "decfb5f9-584e-4747-ade7-d39ea80b2a81",
   "metadata": {},
   "outputs": [
    {
     "data": {
      "text/plain": [
       "Adenopathy\n",
       "0    277\n",
       "1     48\n",
       "2     32\n",
       "3     17\n",
       "4      7\n",
       "5      2\n",
       "Name: count, dtype: int64"
      ]
     },
     "execution_count": 74,
     "metadata": {},
     "output_type": "execute_result"
    }
   ],
   "source": [
    "df.value_counts(\"Adenopathy\")"
   ]
  },
  {
   "cell_type": "code",
   "execution_count": 75,
   "id": "0284e6b9-e98b-461b-96e3-8a68e819a6e9",
   "metadata": {},
   "outputs": [],
   "source": [
    "#change the dtypes for all the columns that were just changed to numerical values \n",
    "df = df.astype({'Smoking': 'int64'})\n",
    "df = df.astype({'Hx Smoking': 'int64'})\n",
    "df = df.astype({'Hx Radiothreapy': 'int64'})\n",
    "df = df.astype({'Adenopathy': 'int64'})\n",
    "df = df.astype({'Thyroid Function': 'int64'})\n",
    "df = df.astype({'Pathology': 'int64'})\n",
    "df = df.astype({'Focality': 'int64'})\n",
    "df = df.astype({'Risk': 'int64'})\n",
    "df = df.astype({'T': 'int64'})\n",
    "df = df.astype({'N': 'int64'})\n",
    "df = df.astype({'M': 'int64'})\n",
    "df = df.astype({'Stage': 'int64'})\n",
    "df = df.astype({'Response': 'int64'})\n",
    "df = df.astype({'Physical Examination': 'int64'})"
   ]
  },
  {
   "cell_type": "code",
   "execution_count": 76,
   "id": "0c1660d5-1345-455d-a5e4-37ff765f717a",
   "metadata": {},
   "outputs": [
    {
     "data": {
      "text/plain": [
       "Age                      int64\n",
       "Gender                  object\n",
       "Smoking                  int64\n",
       "Hx Smoking               int64\n",
       "Hx Radiothreapy          int64\n",
       "Thyroid Function         int64\n",
       "Physical Examination     int64\n",
       "Adenopathy               int64\n",
       "Pathology                int64\n",
       "Focality                 int64\n",
       "Risk                     int64\n",
       "T                        int64\n",
       "N                        int64\n",
       "M                        int64\n",
       "Stage                    int64\n",
       "Response                 int64\n",
       "Recurred                object\n",
       "dtype: object"
      ]
     },
     "execution_count": 76,
     "metadata": {},
     "output_type": "execute_result"
    }
   ],
   "source": [
    "df.dtypes"
   ]
  },
  {
   "cell_type": "code",
   "execution_count": 77,
   "id": "0c918e3f-0e2d-48fa-814a-b07cd15211cc",
   "metadata": {},
   "outputs": [
    {
     "name": "stdout",
     "output_type": "stream",
     "text": [
      "A file already exists with this name.\n",
      "\n"
     ]
    },
    {
     "name": "stdin",
     "output_type": "stream",
     "text": [
      "Do you want to overwrite? (Y/N) Y\n"
     ]
    },
    {
     "name": "stdout",
     "output_type": "stream",
     "text": [
      "Writing file.  \"../data/df2_cleaned.csv\"\n"
     ]
    }
   ],
   "source": [
    "datapath = '../data'\n",
    "save_file(df, 'df2_cleaned.csv', datapath)"
   ]
  },
  {
   "cell_type": "code",
   "execution_count": null,
   "id": "cb2ec560-adfb-497c-8553-d2c121dc3f6a",
   "metadata": {},
   "outputs": [],
   "source": []
  }
 ],
 "metadata": {
  "kernelspec": {
   "display_name": "Python 3 (ipykernel)",
   "language": "python",
   "name": "python3"
  },
  "language_info": {
   "codemirror_mode": {
    "name": "ipython",
    "version": 3
   },
   "file_extension": ".py",
   "mimetype": "text/x-python",
   "name": "python",
   "nbconvert_exporter": "python",
   "pygments_lexer": "ipython3",
   "version": "3.11.5"
  }
 },
 "nbformat": 4,
 "nbformat_minor": 5
}
